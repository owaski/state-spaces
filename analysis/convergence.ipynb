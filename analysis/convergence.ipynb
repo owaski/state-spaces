{
 "cells": [
  {
   "cell_type": "code",
   "execution_count": 1,
   "metadata": {},
   "outputs": [],
   "source": [
    "import torch"
   ]
  },
  {
   "cell_type": "code",
   "execution_count": 4,
   "metadata": {},
   "outputs": [],
   "source": [
    "state_dict = torch.load('/home/siqiouyang/work/projects/state-spaces/checkpoint/ckpt.pth')"
   ]
  },
  {
   "cell_type": "code",
   "execution_count": 8,
   "metadata": {},
   "outputs": [
    {
     "data": {
      "text/plain": [
       "odict_keys(['encoder.weight', 'encoder.bias', 's4_layers.0.D', 's4_layers.0.kernel.C', 's4_layers.0.kernel.log_dt', 's4_layers.0.kernel.log_A_real', 's4_layers.0.kernel.A_imag', 's4_layers.0.output_linear.0.weight', 's4_layers.0.output_linear.0.bias', 's4_layers.1.D', 's4_layers.1.kernel.C', 's4_layers.1.kernel.log_dt', 's4_layers.1.kernel.log_A_real', 's4_layers.1.kernel.A_imag', 's4_layers.1.output_linear.0.weight', 's4_layers.1.output_linear.0.bias', 's4_layers.2.D', 's4_layers.2.kernel.C', 's4_layers.2.kernel.log_dt', 's4_layers.2.kernel.log_A_real', 's4_layers.2.kernel.A_imag', 's4_layers.2.output_linear.0.weight', 's4_layers.2.output_linear.0.bias', 's4_layers.3.D', 's4_layers.3.kernel.C', 's4_layers.3.kernel.log_dt', 's4_layers.3.kernel.log_A_real', 's4_layers.3.kernel.A_imag', 's4_layers.3.output_linear.0.weight', 's4_layers.3.output_linear.0.bias', 'norms.0.weight', 'norms.0.bias', 'norms.1.weight', 'norms.1.bias', 'norms.2.weight', 'norms.2.bias', 'norms.3.weight', 'norms.3.bias', 'decoder.weight', 'decoder.bias'])"
      ]
     },
     "execution_count": 8,
     "metadata": {},
     "output_type": "execute_result"
    }
   ],
   "source": [
    "state_dict['model'].keys()"
   ]
  },
  {
   "cell_type": "code",
   "execution_count": 12,
   "metadata": {},
   "outputs": [
    {
     "data": {
      "text/plain": [
       "torch.Size([128, 32])"
      ]
     },
     "execution_count": 12,
     "metadata": {},
     "output_type": "execute_result"
    }
   ],
   "source": [
    "state_dict['model']['s4_layers.0.kernel.log_A_real'].size()"
   ]
  },
  {
   "cell_type": "code",
   "execution_count": null,
   "metadata": {},
   "outputs": [],
   "source": [
    "\n"
   ]
  }
 ],
 "metadata": {
  "kernelspec": {
   "display_name": "Python 3.8.13 ('ssm')",
   "language": "python",
   "name": "python3"
  },
  "language_info": {
   "codemirror_mode": {
    "name": "ipython",
    "version": 3
   },
   "file_extension": ".py",
   "mimetype": "text/x-python",
   "name": "python",
   "nbconvert_exporter": "python",
   "pygments_lexer": "ipython3",
   "version": "3.8.13"
  },
  "orig_nbformat": 4,
  "vscode": {
   "interpreter": {
    "hash": "d6de56933f904b2755404d1e86ffe12b0e29896a27d9f81328e741f72c5b7a90"
   }
  }
 },
 "nbformat": 4,
 "nbformat_minor": 2
}
